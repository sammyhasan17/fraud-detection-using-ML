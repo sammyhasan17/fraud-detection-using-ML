{
  "cells": [
    {
      "cell_type": "markdown",
      "metadata": {
        "id": "view-in-github",
        "colab_type": "text"
      },
      "source": [
        "<a href=\"https://colab.research.google.com/github/sammyhasan17/fraud-detection-using-ML/blob/main/fraud_detection_xgboost_v2.ipynb\" target=\"_parent\"><img src=\"https://colab.research.google.com/assets/colab-badge.svg\" alt=\"Open In Colab\"/></a>"
      ]
    },
    {
      "cell_type": "markdown",
      "id": "5d4c4665",
      "metadata": {
        "id": "5d4c4665"
      },
      "source": [
        "# Credit‑Card Fraud Detection with XGBoost\n",
        "\n",
        "This notebook provides an end‑to‑end example of building a fraud detection model using **XGBoost**. A real‑world dataset of anonymized credit‑card transactions is pulled directly from Figshare via its public API. The data contain transactions made by European cardholders in September 2013 and include 284,807 transactions where only 492 are fraudulent (≈0.17 %)【861937260890769†L20-L33】. To protect cardholder privacy, all input features except `Time` and `Amount` have been transformed using principal‑component analysis【861937260890769†L21-L24】.\n",
        "\n",
        "Key tasks performed in this notebook:\n",
        "\n",
        "* Use the Figshare REST API to fetch metadata for the dataset and obtain the direct download URL.\n",
        "* Download the CSV file and load it into a Pandas DataFrame.\n",
        "* Clean the data (remove duplicates, standardize numeric features) and explore the class distribution.\n",
        "* Split the data into training and test sets while preserving the fraud/non‑fraud ratio.\n",
        "* Train an XGBoost model with class imbalance handling (`scale_pos_weight`).\n",
        "* Evaluate the model using accuracy, recall, precision, F1 score and ROC‑AUC.\n",
        "* (Optional) Create an ensemble model using stacking to combine XGBoost with other classifiers.\n",
        "\n",
        "The code is written to be transparent and reproducible; comments explain each step so that you can adapt it for your own experimentation. Running this notebook requires an internet connection to download the dataset and the necessary Python libraries (e.g. `xgboost`, `pandas`, `numpy`, `scikit‑learn`, and `requests`)."
      ]
    },
    {
      "cell_type": "code",
      "execution_count": null,
      "id": "c349f26b",
      "metadata": {
        "colab": {
          "base_uri": "https://localhost:8080/"
        },
        "id": "c349f26b",
        "outputId": "3efe9582-f0b9-4021-d3b0-7a747c4c50e2"
      },
      "outputs": [
        {
          "output_type": "stream",
          "name": "stdout",
          "text": [
            "pandas: 2.2.2\n",
            "numpy: 2.0.2\n"
          ]
        }
      ],
      "source": [
        "# Install missing packages (run once).\n",
        "# Uncomment the following lines if you don't already have the required packages.\n",
        "# !pip install pandas numpy scikit-learn xgboost requests tqdm --quiet\n",
        "\n",
        "import json\n",
        "import os\n",
        "import requests\n",
        "import pandas as pd\n",
        "import numpy as np\n",
        "from sklearn.model_selection import train_test_split, StratifiedKFold, cross_val_score\n",
        "from sklearn.preprocessing import StandardScaler\n",
        "from sklearn.metrics import classification_report, confusion_matrix, roc_auc_score\n",
        "from xgboost import XGBClassifier\n",
        "from tqdm.auto import tqdm\n",
        "\n",
        "# Display versions for reproducibility\n",
        "print('pandas:', pd.__version__)\n",
        "print('numpy:', np.__version__)"
      ]
    },
    {
      "cell_type": "markdown",
      "id": "ae4c39a7",
      "metadata": {
        "id": "ae4c39a7"
      },
      "source": [
        "## 1. Use the Figshare REST API to get our data\n",
        "\n",
        "The data reside in a public Figshare record (article ID `29270873`). Figshare exposes a REST API at `https://api.figshare.com/v2`. We first query the article metadata to find the file ID and direct download URL, then we stream the file to disk. If you already have the file locally, you can skip this step."
      ]
    },
    {
      "cell_type": "code",
      "execution_count": null,
      "id": "c37bf10a",
      "metadata": {
        "colab": {
          "base_uri": "https://localhost:8080/"
        },
        "id": "c37bf10a",
        "outputId": "3c5cd4b0-acc2-49d7-d177-dbae6b7ba260"
      },
      "outputs": [
        {
          "output_type": "stream",
          "name": "stdout",
          "text": [
            "creditcard.csv already exists – skipping download.\n"
          ]
        }
      ],
      "source": [
        "# Replace these constants only if the Figshare article or file IDs change\n",
        "FIGSHARE_ARTICLE_ID = 29270873\n",
        "LOCAL_DATA_PATH = 'creditcard.csv'\n",
        "\n",
        "def get_figshare_article(article_id: int) -> dict:\n",
        "    # Retrieve metadata for a Figshare article and return a dict\n",
        "    url = f'https://api.figshare.com/v2/articles/{article_id}'\n",
        "    response = requests.get(url)\n",
        "    response.raise_for_status()\n",
        "    return response.json()\n",
        "\n",
        "def download_figshare_file(download_url: str, dest_path: str) -> None:\n",
        "    # Download a file from Figshare with streaming to avoid memory issues\n",
        "    with requests.get(download_url, stream=True) as r:\n",
        "        r.raise_for_status()\n",
        "        total_size = int(r.headers.get('Content-Length', 0))\n",
        "        chunk_size = 1024 * 1024  # 1 MB\n",
        "        with open(dest_path, 'wb') as f:\n",
        "            with tqdm(total=total_size, unit='B', unit_scale=True, desc='Downloading') as pbar:\n",
        "                for chunk in r.iter_content(chunk_size=chunk_size):\n",
        "                    if chunk:\n",
        "                        f.write(chunk)\n",
        "                        pbar.update(len(chunk))\n",
        "\n",
        "# If the CSV is not present locally, fetch metadata and download it\n",
        "if not os.path.exists(LOCAL_DATA_PATH):\n",
        "    article_meta = get_figshare_article(FIGSHARE_ARTICLE_ID)\n",
        "    file_info = article_meta['files'][0]\n",
        "    print(f\"Found file on Figshare: {file_info['name']} ({file_info['size'] / 1e6:.2f} MB)\")\n",
        "    download_url = file_info['download_url']\n",
        "    print(f'Downloading from {download_url}')\n",
        "    download_figshare_file(download_url, LOCAL_DATA_PATH)\n",
        "else:\n",
        "    print(f'{LOCAL_DATA_PATH} already exists – skipping download.')"
      ]
    },
    {
      "cell_type": "markdown",
      "id": "7216cacd",
      "metadata": {
        "id": "7216cacd"
      },
      "source": [
        "## 2. Load data into a DataFrame\n",
        "\n",
        "Once downloaded, the dataset is a CSV file with 31 columns: 28 PCA components `V1`–`V28`, the raw `Time` and `Amount` features, and the binary `Class` label. A value of 1 indicates a fraudulent transaction and 0 represents a legitimate transaction【861937260890769†L21-L33】."
      ]
    },
    {
      "cell_type": "code",
      "execution_count": null,
      "id": "84e9fd34",
      "metadata": {
        "colab": {
          "base_uri": "https://localhost:8080/",
          "height": 253
        },
        "id": "84e9fd34",
        "outputId": "f1b38969-94a6-4490-e289-abed5fd47288"
      },
      "outputs": [
        {
          "output_type": "stream",
          "name": "stdout",
          "text": [
            "Dataset shape: (284807, 31)\n"
          ]
        },
        {
          "output_type": "execute_result",
          "data": {
            "text/plain": [
              "   Time        V1        V2        V3        V4        V5        V6        V7  \\\n",
              "0   0.0 -1.359807 -0.072781  2.536347  1.378155 -0.338321  0.462388  0.239599   \n",
              "1   0.0  1.191857  0.266151  0.166480  0.448154  0.060018 -0.082361 -0.078803   \n",
              "2   1.0 -1.358354 -1.340163  1.773209  0.379780 -0.503198  1.800499  0.791461   \n",
              "3   1.0 -0.966272 -0.185226  1.792993 -0.863291 -0.010309  1.247203  0.237609   \n",
              "4   2.0 -1.158233  0.877737  1.548718  0.403034 -0.407193  0.095921  0.592941   \n",
              "\n",
              "         V8        V9  ...       V21       V22       V23       V24       V25  \\\n",
              "0  0.098698  0.363787  ... -0.018307  0.277838 -0.110474  0.066928  0.128539   \n",
              "1  0.085102 -0.255425  ... -0.225775 -0.638672  0.101288 -0.339846  0.167170   \n",
              "2  0.247676 -1.514654  ...  0.247998  0.771679  0.909412 -0.689281 -0.327642   \n",
              "3  0.377436 -1.387024  ... -0.108300  0.005274 -0.190321 -1.175575  0.647376   \n",
              "4 -0.270533  0.817739  ... -0.009431  0.798278 -0.137458  0.141267 -0.206010   \n",
              "\n",
              "        V26       V27       V28  Amount  Class  \n",
              "0 -0.189115  0.133558 -0.021053  149.62      0  \n",
              "1  0.125895 -0.008983  0.014724    2.69      0  \n",
              "2 -0.139097 -0.055353 -0.059752  378.66      0  \n",
              "3 -0.221929  0.062723  0.061458  123.50      0  \n",
              "4  0.502292  0.219422  0.215153   69.99      0  \n",
              "\n",
              "[5 rows x 31 columns]"
            ],
            "text/html": [
              "\n",
              "  <div id=\"df-309367b8-9ec8-4c6b-b9d3-c958b7ff4929\" class=\"colab-df-container\">\n",
              "    <div>\n",
              "<style scoped>\n",
              "    .dataframe tbody tr th:only-of-type {\n",
              "        vertical-align: middle;\n",
              "    }\n",
              "\n",
              "    .dataframe tbody tr th {\n",
              "        vertical-align: top;\n",
              "    }\n",
              "\n",
              "    .dataframe thead th {\n",
              "        text-align: right;\n",
              "    }\n",
              "</style>\n",
              "<table border=\"1\" class=\"dataframe\">\n",
              "  <thead>\n",
              "    <tr style=\"text-align: right;\">\n",
              "      <th></th>\n",
              "      <th>Time</th>\n",
              "      <th>V1</th>\n",
              "      <th>V2</th>\n",
              "      <th>V3</th>\n",
              "      <th>V4</th>\n",
              "      <th>V5</th>\n",
              "      <th>V6</th>\n",
              "      <th>V7</th>\n",
              "      <th>V8</th>\n",
              "      <th>V9</th>\n",
              "      <th>...</th>\n",
              "      <th>V21</th>\n",
              "      <th>V22</th>\n",
              "      <th>V23</th>\n",
              "      <th>V24</th>\n",
              "      <th>V25</th>\n",
              "      <th>V26</th>\n",
              "      <th>V27</th>\n",
              "      <th>V28</th>\n",
              "      <th>Amount</th>\n",
              "      <th>Class</th>\n",
              "    </tr>\n",
              "  </thead>\n",
              "  <tbody>\n",
              "    <tr>\n",
              "      <th>0</th>\n",
              "      <td>0.0</td>\n",
              "      <td>-1.359807</td>\n",
              "      <td>-0.072781</td>\n",
              "      <td>2.536347</td>\n",
              "      <td>1.378155</td>\n",
              "      <td>-0.338321</td>\n",
              "      <td>0.462388</td>\n",
              "      <td>0.239599</td>\n",
              "      <td>0.098698</td>\n",
              "      <td>0.363787</td>\n",
              "      <td>...</td>\n",
              "      <td>-0.018307</td>\n",
              "      <td>0.277838</td>\n",
              "      <td>-0.110474</td>\n",
              "      <td>0.066928</td>\n",
              "      <td>0.128539</td>\n",
              "      <td>-0.189115</td>\n",
              "      <td>0.133558</td>\n",
              "      <td>-0.021053</td>\n",
              "      <td>149.62</td>\n",
              "      <td>0</td>\n",
              "    </tr>\n",
              "    <tr>\n",
              "      <th>1</th>\n",
              "      <td>0.0</td>\n",
              "      <td>1.191857</td>\n",
              "      <td>0.266151</td>\n",
              "      <td>0.166480</td>\n",
              "      <td>0.448154</td>\n",
              "      <td>0.060018</td>\n",
              "      <td>-0.082361</td>\n",
              "      <td>-0.078803</td>\n",
              "      <td>0.085102</td>\n",
              "      <td>-0.255425</td>\n",
              "      <td>...</td>\n",
              "      <td>-0.225775</td>\n",
              "      <td>-0.638672</td>\n",
              "      <td>0.101288</td>\n",
              "      <td>-0.339846</td>\n",
              "      <td>0.167170</td>\n",
              "      <td>0.125895</td>\n",
              "      <td>-0.008983</td>\n",
              "      <td>0.014724</td>\n",
              "      <td>2.69</td>\n",
              "      <td>0</td>\n",
              "    </tr>\n",
              "    <tr>\n",
              "      <th>2</th>\n",
              "      <td>1.0</td>\n",
              "      <td>-1.358354</td>\n",
              "      <td>-1.340163</td>\n",
              "      <td>1.773209</td>\n",
              "      <td>0.379780</td>\n",
              "      <td>-0.503198</td>\n",
              "      <td>1.800499</td>\n",
              "      <td>0.791461</td>\n",
              "      <td>0.247676</td>\n",
              "      <td>-1.514654</td>\n",
              "      <td>...</td>\n",
              "      <td>0.247998</td>\n",
              "      <td>0.771679</td>\n",
              "      <td>0.909412</td>\n",
              "      <td>-0.689281</td>\n",
              "      <td>-0.327642</td>\n",
              "      <td>-0.139097</td>\n",
              "      <td>-0.055353</td>\n",
              "      <td>-0.059752</td>\n",
              "      <td>378.66</td>\n",
              "      <td>0</td>\n",
              "    </tr>\n",
              "    <tr>\n",
              "      <th>3</th>\n",
              "      <td>1.0</td>\n",
              "      <td>-0.966272</td>\n",
              "      <td>-0.185226</td>\n",
              "      <td>1.792993</td>\n",
              "      <td>-0.863291</td>\n",
              "      <td>-0.010309</td>\n",
              "      <td>1.247203</td>\n",
              "      <td>0.237609</td>\n",
              "      <td>0.377436</td>\n",
              "      <td>-1.387024</td>\n",
              "      <td>...</td>\n",
              "      <td>-0.108300</td>\n",
              "      <td>0.005274</td>\n",
              "      <td>-0.190321</td>\n",
              "      <td>-1.175575</td>\n",
              "      <td>0.647376</td>\n",
              "      <td>-0.221929</td>\n",
              "      <td>0.062723</td>\n",
              "      <td>0.061458</td>\n",
              "      <td>123.50</td>\n",
              "      <td>0</td>\n",
              "    </tr>\n",
              "    <tr>\n",
              "      <th>4</th>\n",
              "      <td>2.0</td>\n",
              "      <td>-1.158233</td>\n",
              "      <td>0.877737</td>\n",
              "      <td>1.548718</td>\n",
              "      <td>0.403034</td>\n",
              "      <td>-0.407193</td>\n",
              "      <td>0.095921</td>\n",
              "      <td>0.592941</td>\n",
              "      <td>-0.270533</td>\n",
              "      <td>0.817739</td>\n",
              "      <td>...</td>\n",
              "      <td>-0.009431</td>\n",
              "      <td>0.798278</td>\n",
              "      <td>-0.137458</td>\n",
              "      <td>0.141267</td>\n",
              "      <td>-0.206010</td>\n",
              "      <td>0.502292</td>\n",
              "      <td>0.219422</td>\n",
              "      <td>0.215153</td>\n",
              "      <td>69.99</td>\n",
              "      <td>0</td>\n",
              "    </tr>\n",
              "  </tbody>\n",
              "</table>\n",
              "<p>5 rows × 31 columns</p>\n",
              "</div>\n",
              "    <div class=\"colab-df-buttons\">\n",
              "\n",
              "  <div class=\"colab-df-container\">\n",
              "    <button class=\"colab-df-convert\" onclick=\"convertToInteractive('df-309367b8-9ec8-4c6b-b9d3-c958b7ff4929')\"\n",
              "            title=\"Convert this dataframe to an interactive table.\"\n",
              "            style=\"display:none;\">\n",
              "\n",
              "  <svg xmlns=\"http://www.w3.org/2000/svg\" height=\"24px\" viewBox=\"0 -960 960 960\">\n",
              "    <path d=\"M120-120v-720h720v720H120Zm60-500h600v-160H180v160Zm220 220h160v-160H400v160Zm0 220h160v-160H400v160ZM180-400h160v-160H180v160Zm440 0h160v-160H620v160ZM180-180h160v-160H180v160Zm440 0h160v-160H620v160Z\"/>\n",
              "  </svg>\n",
              "    </button>\n",
              "\n",
              "  <style>\n",
              "    .colab-df-container {\n",
              "      display:flex;\n",
              "      gap: 12px;\n",
              "    }\n",
              "\n",
              "    .colab-df-convert {\n",
              "      background-color: #E8F0FE;\n",
              "      border: none;\n",
              "      border-radius: 50%;\n",
              "      cursor: pointer;\n",
              "      display: none;\n",
              "      fill: #1967D2;\n",
              "      height: 32px;\n",
              "      padding: 0 0 0 0;\n",
              "      width: 32px;\n",
              "    }\n",
              "\n",
              "    .colab-df-convert:hover {\n",
              "      background-color: #E2EBFA;\n",
              "      box-shadow: 0px 1px 2px rgba(60, 64, 67, 0.3), 0px 1px 3px 1px rgba(60, 64, 67, 0.15);\n",
              "      fill: #174EA6;\n",
              "    }\n",
              "\n",
              "    .colab-df-buttons div {\n",
              "      margin-bottom: 4px;\n",
              "    }\n",
              "\n",
              "    [theme=dark] .colab-df-convert {\n",
              "      background-color: #3B4455;\n",
              "      fill: #D2E3FC;\n",
              "    }\n",
              "\n",
              "    [theme=dark] .colab-df-convert:hover {\n",
              "      background-color: #434B5C;\n",
              "      box-shadow: 0px 1px 3px 1px rgba(0, 0, 0, 0.15);\n",
              "      filter: drop-shadow(0px 1px 2px rgba(0, 0, 0, 0.3));\n",
              "      fill: #FFFFFF;\n",
              "    }\n",
              "  </style>\n",
              "\n",
              "    <script>\n",
              "      const buttonEl =\n",
              "        document.querySelector('#df-309367b8-9ec8-4c6b-b9d3-c958b7ff4929 button.colab-df-convert');\n",
              "      buttonEl.style.display =\n",
              "        google.colab.kernel.accessAllowed ? 'block' : 'none';\n",
              "\n",
              "      async function convertToInteractive(key) {\n",
              "        const element = document.querySelector('#df-309367b8-9ec8-4c6b-b9d3-c958b7ff4929');\n",
              "        const dataTable =\n",
              "          await google.colab.kernel.invokeFunction('convertToInteractive',\n",
              "                                                    [key], {});\n",
              "        if (!dataTable) return;\n",
              "\n",
              "        const docLinkHtml = 'Like what you see? Visit the ' +\n",
              "          '<a target=\"_blank\" href=https://colab.research.google.com/notebooks/data_table.ipynb>data table notebook</a>'\n",
              "          + ' to learn more about interactive tables.';\n",
              "        element.innerHTML = '';\n",
              "        dataTable['output_type'] = 'display_data';\n",
              "        await google.colab.output.renderOutput(dataTable, element);\n",
              "        const docLink = document.createElement('div');\n",
              "        docLink.innerHTML = docLinkHtml;\n",
              "        element.appendChild(docLink);\n",
              "      }\n",
              "    </script>\n",
              "  </div>\n",
              "\n",
              "\n",
              "    <div id=\"df-0f8856f4-a83e-4617-9d6e-2019c7f16fd7\">\n",
              "      <button class=\"colab-df-quickchart\" onclick=\"quickchart('df-0f8856f4-a83e-4617-9d6e-2019c7f16fd7')\"\n",
              "                title=\"Suggest charts\"\n",
              "                style=\"display:none;\">\n",
              "\n",
              "<svg xmlns=\"http://www.w3.org/2000/svg\" height=\"24px\"viewBox=\"0 0 24 24\"\n",
              "     width=\"24px\">\n",
              "    <g>\n",
              "        <path d=\"M19 3H5c-1.1 0-2 .9-2 2v14c0 1.1.9 2 2 2h14c1.1 0 2-.9 2-2V5c0-1.1-.9-2-2-2zM9 17H7v-7h2v7zm4 0h-2V7h2v10zm4 0h-2v-4h2v4z\"/>\n",
              "    </g>\n",
              "</svg>\n",
              "      </button>\n",
              "\n",
              "<style>\n",
              "  .colab-df-quickchart {\n",
              "      --bg-color: #E8F0FE;\n",
              "      --fill-color: #1967D2;\n",
              "      --hover-bg-color: #E2EBFA;\n",
              "      --hover-fill-color: #174EA6;\n",
              "      --disabled-fill-color: #AAA;\n",
              "      --disabled-bg-color: #DDD;\n",
              "  }\n",
              "\n",
              "  [theme=dark] .colab-df-quickchart {\n",
              "      --bg-color: #3B4455;\n",
              "      --fill-color: #D2E3FC;\n",
              "      --hover-bg-color: #434B5C;\n",
              "      --hover-fill-color: #FFFFFF;\n",
              "      --disabled-bg-color: #3B4455;\n",
              "      --disabled-fill-color: #666;\n",
              "  }\n",
              "\n",
              "  .colab-df-quickchart {\n",
              "    background-color: var(--bg-color);\n",
              "    border: none;\n",
              "    border-radius: 50%;\n",
              "    cursor: pointer;\n",
              "    display: none;\n",
              "    fill: var(--fill-color);\n",
              "    height: 32px;\n",
              "    padding: 0;\n",
              "    width: 32px;\n",
              "  }\n",
              "\n",
              "  .colab-df-quickchart:hover {\n",
              "    background-color: var(--hover-bg-color);\n",
              "    box-shadow: 0 1px 2px rgba(60, 64, 67, 0.3), 0 1px 3px 1px rgba(60, 64, 67, 0.15);\n",
              "    fill: var(--button-hover-fill-color);\n",
              "  }\n",
              "\n",
              "  .colab-df-quickchart-complete:disabled,\n",
              "  .colab-df-quickchart-complete:disabled:hover {\n",
              "    background-color: var(--disabled-bg-color);\n",
              "    fill: var(--disabled-fill-color);\n",
              "    box-shadow: none;\n",
              "  }\n",
              "\n",
              "  .colab-df-spinner {\n",
              "    border: 2px solid var(--fill-color);\n",
              "    border-color: transparent;\n",
              "    border-bottom-color: var(--fill-color);\n",
              "    animation:\n",
              "      spin 1s steps(1) infinite;\n",
              "  }\n",
              "\n",
              "  @keyframes spin {\n",
              "    0% {\n",
              "      border-color: transparent;\n",
              "      border-bottom-color: var(--fill-color);\n",
              "      border-left-color: var(--fill-color);\n",
              "    }\n",
              "    20% {\n",
              "      border-color: transparent;\n",
              "      border-left-color: var(--fill-color);\n",
              "      border-top-color: var(--fill-color);\n",
              "    }\n",
              "    30% {\n",
              "      border-color: transparent;\n",
              "      border-left-color: var(--fill-color);\n",
              "      border-top-color: var(--fill-color);\n",
              "      border-right-color: var(--fill-color);\n",
              "    }\n",
              "    40% {\n",
              "      border-color: transparent;\n",
              "      border-right-color: var(--fill-color);\n",
              "      border-top-color: var(--fill-color);\n",
              "    }\n",
              "    60% {\n",
              "      border-color: transparent;\n",
              "      border-right-color: var(--fill-color);\n",
              "    }\n",
              "    80% {\n",
              "      border-color: transparent;\n",
              "      border-right-color: var(--fill-color);\n",
              "      border-bottom-color: var(--fill-color);\n",
              "    }\n",
              "    90% {\n",
              "      border-color: transparent;\n",
              "      border-bottom-color: var(--fill-color);\n",
              "    }\n",
              "  }\n",
              "</style>\n",
              "\n",
              "      <script>\n",
              "        async function quickchart(key) {\n",
              "          const quickchartButtonEl =\n",
              "            document.querySelector('#' + key + ' button');\n",
              "          quickchartButtonEl.disabled = true;  // To prevent multiple clicks.\n",
              "          quickchartButtonEl.classList.add('colab-df-spinner');\n",
              "          try {\n",
              "            const charts = await google.colab.kernel.invokeFunction(\n",
              "                'suggestCharts', [key], {});\n",
              "          } catch (error) {\n",
              "            console.error('Error during call to suggestCharts:', error);\n",
              "          }\n",
              "          quickchartButtonEl.classList.remove('colab-df-spinner');\n",
              "          quickchartButtonEl.classList.add('colab-df-quickchart-complete');\n",
              "        }\n",
              "        (() => {\n",
              "          let quickchartButtonEl =\n",
              "            document.querySelector('#df-0f8856f4-a83e-4617-9d6e-2019c7f16fd7 button');\n",
              "          quickchartButtonEl.style.display =\n",
              "            google.colab.kernel.accessAllowed ? 'block' : 'none';\n",
              "        })();\n",
              "      </script>\n",
              "    </div>\n",
              "\n",
              "    </div>\n",
              "  </div>\n"
            ],
            "application/vnd.google.colaboratory.intrinsic+json": {
              "type": "dataframe",
              "variable_name": "data"
            }
          },
          "metadata": {},
          "execution_count": 7
        }
      ],
      "source": [
        "# Load the CSV into a DataFrame\n",
        "data = pd.read_csv(LOCAL_DATA_PATH)\n",
        "print('Dataset shape:', data.shape)\n",
        "data.head()"
      ]
    },
    {
      "cell_type": "markdown",
      "id": "118477cf",
      "metadata": {
        "id": "118477cf"
      },
      "source": [
        "### Inspect class distribution\n",
        "\n",
        "The dataset is highly imbalanced: only ~0.17 % of the transactions are fraudulent【861937260890769†L21-L33】. We compute the number and proportion of each class below."
      ]
    },
    {
      "cell_type": "code",
      "execution_count": null,
      "id": "e5b2b9f3",
      "metadata": {
        "colab": {
          "base_uri": "https://localhost:8080/"
        },
        "id": "e5b2b9f3",
        "outputId": "df003888-f659-4e3a-dc81-34be7e2186ca"
      },
      "outputs": [
        {
          "output_type": "stream",
          "name": "stdout",
          "text": [
            "Class distribution:\n",
            "  Class 0: 284315 samples (99.827%)\n",
            "  Class 1: 492 samples (0.173%)\n"
          ]
        }
      ],
      "source": [
        "# Compute class distribution\n",
        "class_counts = data['Class'].value_counts().sort_index()\n",
        "print('Class distribution:')\n",
        "for cls, count in class_counts.items():\n",
        "    print(f'  Class {cls}: {count} samples ({count / len(data) * 100:.3f}%)')"
      ]
    },
    {
      "cell_type": "markdown",
      "id": "48543e2c",
      "metadata": {
        "id": "48543e2c"
      },
      "source": [
        "## 3. Data cleaning and preprocessing\n",
        "\n",
        "We perform standard cleaning steps: remove duplicates, verify no missing values, scale `Time` and `Amount` and split the data into stratified training and test sets."
      ]
    },
    {
      "cell_type": "code",
      "execution_count": null,
      "id": "2618f564",
      "metadata": {
        "colab": {
          "base_uri": "https://localhost:8080/"
        },
        "id": "2618f564",
        "outputId": "25a1ffd8-0f89-4c66-8661-260fd03557ce"
      },
      "outputs": [
        {
          "output_type": "stream",
          "name": "stdout",
          "text": [
            "Removed 1081 duplicate rows\n",
            "No missing values detected.\n",
            "Training set size: 198608\n",
            "Test set size: 85118\n"
          ]
        }
      ],
      "source": [
        "# 1. Remove duplicate rows\n",
        "initial_rows = len(data)\n",
        "data = data.drop_duplicates()\n",
        "print(f'Removed {initial_rows - len(data)} duplicate rows')\n",
        "\n",
        "# 2. Check for missing values\n",
        "missing_counts = data.isnull().sum()\n",
        "if missing_counts.any():\n",
        "    print('Missing values detected:', missing_counts[missing_counts > 0])\n",
        "else:\n",
        "    print('No missing values detected.')\n",
        "\n",
        "# 3. Separate features and target\n",
        "X = data.drop('Class', axis=1).copy()\n",
        "y = data['Class'].copy()\n",
        "\n",
        "# Standardize 'Time' and 'Amount'\n",
        "scaler = StandardScaler()\n",
        "X[['Time', 'Amount']] = scaler.fit_transform(X[['Time', 'Amount']])\n",
        "\n",
        "# 4. Train/test split with stratification\n",
        "X_train, X_test, y_train, y_test = train_test_split(X, y, test_size=0.3, stratify=y, random_state=42)\n",
        "print('Training set size:', X_train.shape[0])\n",
        "print('Test set size:', X_test.shape[0])"
      ]
    },
    {
      "cell_type": "markdown",
      "id": "737c5561",
      "metadata": {
        "id": "737c5561"
      },
      "source": [
        "## 4. Train an XGBoost fraud detector\n",
        "\n",
        "Because fraud cases are extremely rare, we set the `scale_pos_weight` hyperparameter to the ratio of negative to positive examples in the training data. We also specify a moderate number of trees and constrain their depth to avoid overfitting."
      ]
    },
    {
      "cell_type": "code",
      "execution_count": null,
      "id": "b349f5f3",
      "metadata": {
        "colab": {
          "base_uri": "https://localhost:8080/"
        },
        "id": "b349f5f3",
        "outputId": "67c0e1e9-67c8-4793-9bd5-5bff2a6e33bc"
      },
      "outputs": [
        {
          "output_type": "stream",
          "name": "stdout",
          "text": [
            "Negative/positive ratio in training set: 599:1\n",
            "Classification report:\n",
            "              precision    recall  f1-score   support\n",
            "\n",
            "           0     0.9997    0.9997    0.9997     84976\n",
            "           1     0.8085    0.8028    0.8057       142\n",
            "\n",
            "    accuracy                         0.9994     85118\n",
            "   macro avg     0.9041    0.9012    0.9027     85118\n",
            "weighted avg     0.9994    0.9994    0.9994     85118\n",
            "\n",
            "Confusion matrix: [[84949    27]\n",
            " [   28   114]]\n",
            "ROC-AUC: 0.9738\n"
          ]
        }
      ],
      "source": [
        "# Compute scale_pos_weight as ratio of negative to positive samples\n",
        "neg_pos_ratio = (y_train == 0).sum() / (y_train == 1).sum()\n",
        "print(f'Negative/positive ratio in training set: {neg_pos_ratio:.0f}:1')\n",
        "\n",
        "xgb_clf = XGBClassifier(\n",
        "    objective='binary:logistic',\n",
        "    eval_metric='aucpr',\n",
        "    n_estimators=200,\n",
        "    max_depth=4,\n",
        "    learning_rate=0.1,\n",
        "    subsample=0.8,\n",
        "    colsample_bytree=0.8,\n",
        "    scale_pos_weight=neg_pos_ratio,\n",
        "    random_state=42,\n",
        "    n_jobs=-1\n",
        ")\n",
        "\n",
        "xgb_clf.fit(X_train, y_train)\n",
        "\n",
        "y_pred = xgb_clf.predict(X_test)\n",
        "y_proba = xgb_clf.predict_proba(X_test)[:, 1]\n",
        "\n",
        "print('Classification report:')\n",
        "print(classification_report(y_test, y_pred, digits=4))\n",
        "\n",
        "cm = confusion_matrix(y_test, y_pred)\n",
        "print('Confusion matrix:', cm)\n",
        "\n",
        "roc_auc = roc_auc_score(y_test, y_proba)\n",
        "print(f'ROC-AUC: {roc_auc:.4f}')"
      ]
    },
    {
      "cell_type": "markdown",
      "id": "313361af",
      "metadata": {
        "id": "313361af"
      },
      "source": [
        "## 5. Cross-validation and hyperparameter tuning (optional)\n",
        "\n",
        "Use stratified cross-validation to obtain a more robust estimate of model performance. Hyperparameter tuning can further improve results."
      ]
    },
    {
      "cell_type": "code",
      "execution_count": null,
      "id": "2440f35b",
      "metadata": {
        "colab": {
          "base_uri": "https://localhost:8080/"
        },
        "id": "2440f35b",
        "outputId": "9876f6e4-93e3-4230-bf60-7ef10fc17298"
      },
      "outputs": [
        {
          "output_type": "stream",
          "name": "stdout",
          "text": [
            "Cross-validated ROC-AUC scores: [0.99054979 0.98701484 0.97796555 0.99557356 0.97373712]\n",
            "Mean ROC-AUC: 0.9849681729808781\n"
          ]
        }
      ],
      "source": [
        "cv = StratifiedKFold(n_splits=5, shuffle=True, random_state=42)\n",
        "cv_scores = cross_val_score(xgb_clf, X_train, y_train, cv=cv, scoring='roc_auc', n_jobs=-1)\n",
        "print('Cross-validated ROC-AUC scores:', cv_scores)\n",
        "print('Mean ROC-AUC:', cv_scores.mean())"
      ]
    },
    {
      "cell_type": "markdown",
      "id": "36c524d8",
      "metadata": {
        "id": "36c524d8"
      },
      "source": [
        "## 6. Creating an ensemble (stacking) model\n",
        "\n",
        "Combine logistic regression and random forest as base learners with a final XGBoost classifier using `StackingClassifier`."
      ]
    },
    {
      "cell_type": "code",
      "execution_count": null,
      "id": "9a3fabf8",
      "metadata": {
        "colab": {
          "base_uri": "https://localhost:8080/"
        },
        "id": "9a3fabf8",
        "outputId": "c5fbc57e-a7b9-4b31-c612-3dfdb5e5b9cc"
      },
      "outputs": [
        {
          "output_type": "stream",
          "name": "stdout",
          "text": [
            "Stacking model classification report:\n",
            "              precision    recall  f1-score   support\n",
            "\n",
            "           0     0.9998    0.9607    0.9799     84976\n",
            "           1     0.0366    0.8944    0.0703       142\n",
            "\n",
            "    accuracy                         0.9606     85118\n",
            "   macro avg     0.5182    0.9275    0.5251     85118\n",
            "weighted avg     0.9982    0.9606    0.9783     85118\n",
            "\n",
            "Ensemble ROC-AUC: 0.9699187227014884\n"
          ]
        }
      ],
      "source": [
        "from xgboost import XGBClassifier\n",
        "\n",
        "from sklearn.linear_model import LogisticRegression\n",
        "from sklearn.ensemble import RandomForestClassifier, StackingClassifier\n",
        "\n",
        "base_learners = [\n",
        "    ('lr', LogisticRegression(max_iter=1000, class_weight='balanced')),\n",
        "    ('rf', RandomForestClassifier(n_estimators=200, max_depth=8, class_weight='balanced_subsample', random_state=42))\n",
        "]\n",
        "\n",
        "final_estimator = XGBClassifier(\n",
        "    objective='binary:logistic',\n",
        "    eval_metric='aucpr',\n",
        "    n_estimators=100,\n",
        "    max_depth=3,\n",
        "    learning_rate=0.1,\n",
        "    subsample=0.8,\n",
        "    colsample_bytree=0.8,\n",
        "    scale_pos_weight=neg_pos_ratio,\n",
        "    random_state=42,\n",
        "    n_jobs=-1\n",
        ")\n",
        "\n",
        "stacking_clf = StackingClassifier(estimators=base_learners, final_estimator=final_estimator, n_jobs=-1)\n",
        "stacking_clf.fit(X_train, y_train)\n",
        "\n",
        "ensemble_pred = stacking_clf.predict(X_test)\n",
        "ensemble_proba = stacking_clf.predict_proba(X_test)[:, 1]\n",
        "\n",
        "print('Stacking model classification report:')\n",
        "print(classification_report(y_test, ensemble_pred, digits=4))\n",
        "ensemble_auc = roc_auc_score(y_test, ensemble_proba)\n",
        "print('Ensemble ROC-AUC:', ensemble_auc)"
      ]
    },
    {
      "cell_type": "markdown",
      "id": "2fa6c5eb",
      "metadata": {
        "id": "2fa6c5eb"
      },
      "source": [
        "## 7. Conclusion\n",
        "\n",
        "This notebook demonstrated how to download a real-world credit-card fraud dataset from Figshare, perform basic preprocessing, and build a fraud detector using XGBoost. We accounted for severe class imbalance using the `scale_pos_weight` parameter and evaluated the model with appropriate metrics. An optional stacking ensemble illustrated how combining classifiers can further improve results."
      ]
    }
  ],
  "metadata": {
    "kernelspec": {
      "display_name": "Python 3",
      "language": "python",
      "name": "python3"
    },
    "language_info": {
      "name": "python",
      "version": "3.11"
    },
    "colab": {
      "provenance": [],
      "include_colab_link": true
    }
  },
  "nbformat": 4,
  "nbformat_minor": 5
}